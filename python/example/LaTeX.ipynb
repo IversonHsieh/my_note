{
 "cells": [
  {
   "cell_type": "markdown",
   "metadata": {},
   "source": [
    "# LaTex數學公式\n",
    "\n",
    "***\n",
    "\n",
    "* 數學公式LaTex,可以參考這[網站](http://www.codecogs.com/latex/eqneditor.php?lang=zh-cn)\n",
    "\n",
    "$$ \\int u \\frac{dv}{dx}\\,dx=uv-\\int \\frac{du}{dx}v\\,dx $$\n",
    "\n",
    "* 在同一行的數學公式,採用單一\\$括起,如 $a^2=b^2+c^2$\n",
    "\n",
    "* 獨站一行的數學公式,使用**$$**，例如：\n",
    "\n",
    "$$ \\sqrt{x^2 + y^2} $$"
   ]
  },
  {
   "cell_type": "code",
   "execution_count": 8,
   "metadata": {
    "collapsed": false
   },
   "outputs": [],
   "source": [
    "import os\n",
    "%find?"
   ]
  },
  {
   "cell_type": "code",
   "execution_count": null,
   "metadata": {
    "collapsed": true
   },
   "outputs": [],
   "source": []
  }
 ],
 "metadata": {
  "kernelspec": {
   "display_name": "Python 2",
   "language": "python",
   "name": "python2"
  },
  "language_info": {
   "codemirror_mode": {
    "name": "ipython",
    "version": 2
   },
   "file_extension": ".py",
   "mimetype": "text/x-python",
   "name": "python",
   "nbconvert_exporter": "python",
   "pygments_lexer": "ipython2",
   "version": "2.7.13"
  }
 },
 "nbformat": 4,
 "nbformat_minor": 2
}
